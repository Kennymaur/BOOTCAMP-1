{
 "cells": [
  {
   "cell_type": "code",
   "execution_count": 1,
   "id": "bc1287e4",
   "metadata": {},
   "outputs": [
    {
     "name": "stdout",
     "output_type": "stream",
     "text": [
      "please enter your sentence: tuii\n",
      "please enter the number of shift from 1 to 25: 4\n",
      "XYMM\n"
     ]
    }
   ],
   "source": [
    "# import string\n",
    "# make text list\n",
    "# use for loop to iterate\n",
    "\n",
    "\n",
    "import string\n",
    "\n",
    "\n",
    "alphabets=string.ascii_uppercase + string.ascii_uppercase\n",
    "text= list(input('please enter your sentence: ').upper())\n",
    "\n",
    "shift_number = int(input('please enter the number of shift from 1 to 25: '))\n",
    "for i in range(len(text)):\n",
    "    if text[i]== ' ':\n",
    "        text[i]= ' '\n",
    "    \n",
    "    else:\n",
    "        new_text= alphabets.index(text[i]) + shift_number\n",
    "        text[i]=alphabets[new_text]\n",
    "       \n",
    "    \n",
    "    \n",
    "print(''.join(map(str, text)))"
   ]
  },
  {
   "cell_type": "code",
   "execution_count": null,
   "id": "a5c8d979",
   "metadata": {},
   "outputs": [],
   "source": []
  }
 ],
 "metadata": {
  "kernelspec": {
   "display_name": "Python 3 (ipykernel)",
   "language": "python",
   "name": "python3"
  },
  "language_info": {
   "codemirror_mode": {
    "name": "ipython",
    "version": 3
   },
   "file_extension": ".py",
   "mimetype": "text/x-python",
   "name": "python",
   "nbconvert_exporter": "python",
   "pygments_lexer": "ipython3",
   "version": "3.9.13"
  }
 },
 "nbformat": 4,
 "nbformat_minor": 5
}
